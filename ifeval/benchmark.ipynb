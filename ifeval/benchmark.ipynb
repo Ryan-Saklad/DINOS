{
 "cells": [
  {
   "cell_type": "code",
   "execution_count": 13,
   "id": "efed9af5",
   "metadata": {},
   "outputs": [],
   "source": [
    "import os, json, pprint\n",
    "import requests\n",
    "\n",
    "from dotenv import load_dotenv\n",
    "\n",
    "load_dotenv()\n",
    "\n",
    "OPENROUTER_API_KEY = os.environ['OPENROUTER_API_KEY']"
   ]
  },
  {
   "cell_type": "code",
   "execution_count": 4,
   "id": "ff034140-bc75-4866-aab8-6e86c1775b2d",
   "metadata": {},
   "outputs": [],
   "source": [
    "response = requests.post(\n",
    "    url=\"https://openrouter.ai/api/v1/chat/completions\",\n",
    "    headers={\n",
    "        \"Authorization\": f\"Bearer {OPENROUTER_API_KEY}\",\n",
    "    },\n",
    "    data = json.dumps({\n",
    "        \"model\": \"mistralai/mistral-7b-instruct:free\",\n",
    "        \"messages\": [\n",
    "            {\"role\": \"user\", \"content\": \"What is the meaning of life?\"}\n",
    "        ]\n",
    "    })\n",
    ")"
   ]
  },
  {
   "cell_type": "code",
   "execution_count": 19,
   "id": "af2c0a38",
   "metadata": {},
   "outputs": [
    {
     "name": "stdout",
     "output_type": "stream",
     "text": [
      "(\"That's a deep question. Different people may have different answers to that. \"\n",
      " 'What do you think the purpose of life is?')\n"
     ]
    }
   ],
   "source": [
    "pprint.pprint(response.json()['choices'][0]['message']['content'])"
   ]
  },
  {
   "cell_type": "code",
   "execution_count": null,
   "id": "9d98112a",
   "metadata": {},
   "outputs": [],
   "source": []
  }
 ],
 "metadata": {
  "kernelspec": {
   "display_name": "Python 3 (ipykernel)",
   "language": "python",
   "name": "python3"
  },
  "language_info": {
   "codemirror_mode": {
    "name": "ipython",
    "version": 3
   },
   "file_extension": ".py",
   "mimetype": "text/x-python",
   "name": "python",
   "nbconvert_exporter": "python",
   "pygments_lexer": "ipython3",
   "version": "3.12.1"
  }
 },
 "nbformat": 4,
 "nbformat_minor": 5
}
